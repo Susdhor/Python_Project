{
 "cells": [
  {
   "cell_type": "code",
   "execution_count": null,
   "metadata": {},
   "outputs": [],
   "source": [
    "print(\"love you python\")\n"
   ]
  },
  {
   "cell_type": "code",
   "execution_count": 74,
   "metadata": {},
   "outputs": [],
   "source": [
    "class Robot:\n",
    "    def __init__(self,name, color,weight):\n",
    "        self.name = name\n",
    "        self.color = color\n",
    "        self.weight = weight\n",
    "\n",
    "    def introduce_self(self):\n",
    "        print(f\"My name is \" + self.name)\n"
   ]
  },
  {
   "cell_type": "code",
   "execution_count": 75,
   "metadata": {},
   "outputs": [],
   "source": [
    "r1 = Robot(\"Tom\", \"red\", 30)\n",
    "r2 = Robot(\"Jenny\", \"blue\", 40)\n"
   ]
  },
  {
   "cell_type": "code",
   "execution_count": 76,
   "metadata": {},
   "outputs": [
    {
     "name": "stdout",
     "output_type": "stream",
     "text": [
      "My name is Tom\n",
      "My name is Jenny\n"
     ]
    }
   ],
   "source": [
    "r1.introduce_self()\n",
    "r2.introduce_self()\n"
   ]
  },
  {
   "cell_type": "code",
   "execution_count": 77,
   "metadata": {},
   "outputs": [],
   "source": [
    "class Person:\n",
    "    def __init__(self,n,p,i):\n",
    "        self.name = n\n",
    "        self.personality = p\n",
    "        self.is_sitting = i\n",
    "\n",
    "    def sit_dpwn(self):\n",
    "        self.is_sitting = True\n",
    "\n",
    "    def stand_up(self):\n",
    "        self.is_sitting = False\n"
   ]
  },
  {
   "cell_type": "code",
   "execution_count": 78,
   "metadata": {},
   "outputs": [],
   "source": [
    "p1 = Person(\"Alice\",\"aggressive\", False)\n",
    "p2 = Person(\"Becky\",\"talkative\", True)"
   ]
  },
  {
   "cell_type": "code",
   "execution_count": 79,
   "metadata": {},
   "outputs": [],
   "source": [
    "p1.robot_owned = r2\n",
    "p2.robot_owned = r1"
   ]
  },
  {
   "cell_type": "code",
   "execution_count": 80,
   "metadata": {},
   "outputs": [
    {
     "name": "stdout",
     "output_type": "stream",
     "text": [
      "My name is Jenny\n",
      "My name is Tom\n"
     ]
    }
   ],
   "source": [
    "p1.robot_owned.introduce_self()\n",
    "p2.robot_owned.introduce_self()"
   ]
  },
  {
   "cell_type": "code",
   "execution_count": 87,
   "metadata": {},
   "outputs": [
    {
     "name": "stdout",
     "output_type": "stream",
     "text": [
      "Hi, I am John Smith \n",
      "Hi, I am Bob smith \n"
     ]
    }
   ],
   "source": [
    "class Person:\n",
    "    def __init__(self, name):\n",
    "        self.name = name\n",
    "\n",
    "\n",
    "    def talk(self):\n",
    "        print(f\"Hi, I am {self.name} \")\n",
    "\n",
    "\n",
    "john = Person(\"John Smith\")\n",
    "john.talk()\n",
    "\n",
    "bob = Person(\"Bob smith\")\n",
    "bob.talk()\n",
    "\n",
    "    "
   ]
  },
  {
   "cell_type": "code",
   "execution_count": 99,
   "metadata": {},
   "outputs": [
    {
     "name": "stdout",
     "output_type": "stream",
     "text": [
      "I am a Car!\n",
      "General Use: transportation\n",
      "Specific Use: Commute to work, vacation with family!\n",
      "I am a motor Cycle!\n",
      "General Use: transportation\n",
      "Specific use: road trip, racing!\n"
     ]
    }
   ],
   "source": [
    "class Vehicle:\n",
    "    def general_usage(self):\n",
    "        print(\"General Use: transportation\")\n",
    "\n",
    "class Car(Vehicle):\n",
    "    def __init__(self):\n",
    "        print(\"I am a Car!\")\n",
    "        self.wheels = 4\n",
    "        self.has_roof = True\n",
    "\n",
    "    def specific_usage(self):\n",
    "        print(\"Specific Use: Commute to work, vacation with family!\")\n",
    "\n",
    "\n",
    "class MotorCycle(Vehicle):\n",
    "    def __init__(self):\n",
    "        print(\"I am a motor Cycle!\")\n",
    "        self.wheels = 2\n",
    "        self.has_roof = False\n",
    "\n",
    "    def specific_usage(self):\n",
    "        print(\"Specific use: road trip, racing!\")\n",
    "\n",
    "\n",
    "c = Car()\n",
    "c.general_usage()\n",
    "c.specific_usage()\n",
    "\n",
    "m = MotorCycle()\n",
    "m.general_usage()\n",
    "m.specific_usage()\n",
    "\n",
    "\n",
    "\n",
    "\n",
    "\n"
   ]
  },
  {
   "cell_type": "code",
   "execution_count": null,
   "metadata": {},
   "outputs": [],
   "source": []
  }
 ],
 "metadata": {
  "interpreter": {
   "hash": "480ea56ad254e3f0acf440f4170cdb05939a1ddf9528cc4aacd802615cf6eefa"
  },
  "kernelspec": {
   "display_name": "Python 3.9.7 64-bit ('env1': conda)",
   "language": "python",
   "name": "python3"
  },
  "language_info": {
   "codemirror_mode": {
    "name": "ipython",
    "version": 3
   },
   "file_extension": ".py",
   "mimetype": "text/x-python",
   "name": "python",
   "nbconvert_exporter": "python",
   "pygments_lexer": "ipython3",
   "version": "3.9.7"
  },
  "orig_nbformat": 4
 },
 "nbformat": 4,
 "nbformat_minor": 2
}
